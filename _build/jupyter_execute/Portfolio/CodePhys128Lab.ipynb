{
 "cells": [
  {
   "cell_type": "markdown",
   "metadata": {},
   "source": [
    "# Senior Lab Experiment: Laser Diode Spectroscopy\n",
    "\n",
    "## Structure of this lab: \n",
    "You are given a set of instruments, which include 90/10 and 50/50 beam splitters, total mirrors, photodetectors, and an IR external cavity laser. \n",
    "\n",
    "## Goal: \n",
    "- To observe the Doppler-Free Spectra of Rb gas cell.\n",
    "- To observe the degenerate ground states and the excited states of the Rb Spectra with different isotopes. \n",
    "\n",
    "### Key to finishing this lab:\n",
    "1. Tune the laser to the right mode. \n",
    "    1. The piezo is just used to sweep the laser like a small little jitter with a triangle wave AC signal. \n",
    "    2. Play with the DC signal more to get it to lase at the right mode. \n",
    "    3. The laser could be lasing consistently, but it may or may not be lasing at the mode that the Rb cell gets excited at. \n",
    "    4. What is the band gap energy of the Rb85a/b and Rb87a/b? \n",
    "    5. What wavelength are they? \n",
    "2. Once you have tuned the laser to the right mode, you're 75% done with the lab. You need to ask yourself why you need to optically pump the cell, and why does optically pumping the cell result in certain excited states dropping the  \n",
    "\n",
    "The most important part of this lab is to know what mode the laser is operating at. Without an optical spectrometer, you don't know what wavelength the laser is lasing at."
   ]
  }
 ],
 "metadata": {
  "kernelspec": {
   "display_name": "Python 3",
   "language": "python",
   "name": "python3"
  },
  "language_info": {
   "codemirror_mode": {
    "name": "ipython",
    "version": 3
   },
   "file_extension": ".py",
   "mimetype": "text/x-python",
   "name": "python",
   "nbconvert_exporter": "python",
   "pygments_lexer": "ipython3",
   "version": "3.11.0"
  }
 },
 "nbformat": 4,
 "nbformat_minor": 2
}